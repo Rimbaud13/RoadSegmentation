{
 "cells": [
  {
   "cell_type": "code",
   "execution_count": 28,
   "metadata": {
    "collapsed": true
   },
   "outputs": [],
   "source": [
    "from image_helpers import *\n",
    "from global_vars import *\n",
    "import matplotlib.pyplot as plt"
   ]
  },
  {
   "cell_type": "code",
   "execution_count": 29,
   "metadata": {},
   "outputs": [],
   "source": [
    "data_dir = 'training/'\n",
    "train_data_filename = data_dir + 'images/'\n",
    "label_data_filename = data_dir + 'groundtruth/'\n",
    "\n",
    "# Extract it into numpy arrays.\n",
    "FILE_REGEX = \"satImage_%.3d\""
   ]
  },
  {
   "cell_type": "code",
   "execution_count": 30,
   "metadata": {},
   "outputs": [
    {
     "name": "stdout",
     "output_type": "stream",
     "text": [
      "Loading training/images/satImage_001.png\nLoading training/images/satImage_002.png\nLoading training/images/satImage_003.png\nLoading training/images/satImage_004.png\nLoading training/images/satImage_005.png\nLoading training/images/satImage_006.png\nLoading training/images/satImage_007.png\nLoading training/images/satImage_008.png\nLoading training/images/satImage_009.png\nLoading training/images/satImage_010.png\nLoading training/images/satImage_011.png\n"
     ]
    },
    {
     "name": "stdout",
     "output_type": "stream",
     "text": [
      "Loading training/images/satImage_012.png\nLoading training/images/satImage_013.png\nLoading training/images/satImage_014.png\nLoading training/images/satImage_015.png\nLoading training/images/satImage_016.png\nLoading training/images/satImage_017.png\nLoading training/images/satImage_018.png\nLoading training/images/satImage_019.png\nLoading training/images/satImage_020.png\nLoading training/groundtruth/satImage_001.png\nLoading training/groundtruth/satImage_002.png\nLoading training/groundtruth/satImage_003.png\nLoading training/groundtruth/satImage_004.png\nLoading training/groundtruth/satImage_005.png\nLoading training/groundtruth/satImage_006.png\nLoading training/groundtruth/satImage_007.png\nLoading training/groundtruth/satImage_008.png\n"
     ]
    },
    {
     "name": "stdout",
     "output_type": "stream",
     "text": [
      "Loading training/groundtruth/satImage_009.png\nLoading training/groundtruth/satImage_010.png\nLoading training/groundtruth/satImage_011.png\nLoading training/groundtruth/satImage_012.png\nLoading training/groundtruth/satImage_013.png\nLoading training/groundtruth/satImage_014.png\nLoading training/groundtruth/satImage_015.png\nLoading training/groundtruth/satImage_016.png\nLoading training/groundtruth/satImage_017.png\nLoading training/groundtruth/satImage_018.png\nLoading training/groundtruth/satImage_019.png\nLoading training/groundtruth/satImage_020.png\nhello\n"
     ]
    }
   ],
   "source": [
    "sat_images, label_images = read_images(train_data_filename, label_data_filename, 20, FILE_REGEX)\n",
    "print(\"hello\")"
   ]
  },
  {
   "cell_type": "code",
   "execution_count": 44,
   "metadata": {},
   "outputs": [
    {
     "name": "stdout",
     "output_type": "stream",
     "text": [
      "(20, 400, 400)\n"
     ]
    },
    {
     "data": {
      "image/png": "[encoded data removed]",
      "text/plain": [
       "<matplotlib.figure.Figure at 0x7fed852861d0>"
      ]
     },
     "metadata": {},
     "output_type": "display_data"
    }
   ],
   "source": [
    "plt.imshow(label_images[0])\n",
    "print(label_images.shape)\n",
    "plt.show()"
   ]
  },
  {
   "cell_type": "code",
   "execution_count": 47,
   "metadata": {},
   "outputs": [
    {
     "data": {
      "image/png": "[encoded data removed]",
      "text/plain": [
       "<matplotlib.figure.Figure at 0x7fed8542ea90>"
      ]
     },
     "metadata": {},
     "output_type": "display_data"
    },
    {
     "name": "stdout",
     "output_type": "stream",
     "text": [
      "[[ 0.  0.  0.  0.  1.  0.  0.  0.  0.  0.  0.  0.  1.  1.  0.  0.  0.  0.\n   0.  0.  0.  1.  0.  0.  0.]\n [ 0.  0.  0.  0.  1.  0.  0.  0.  0.  0.  0.  0.  1.  1.  0.  0.  0.  0.\n   0.  0.  0.  1.  0.  0.  0.]\n [ 0.  0.  0.  0.  1.  0.  0.  0.  0.  0.  0.  0.  1.  1.  0.  0.  0.  0.\n   0.  0.  0.  1.  0.  0.  0.]\n [ 0.  0.  0.  0.  1.  0.  0.  0.  0.  0.  0.  0.  1.  1.  0.  0.  0.  0.\n   0.  0.  0.  1.  0.  0.  0.]\n [ 0.  0.  0.  0.  1.  0.  0.  0.  0.  0.  0.  0.  1.  1.  0.  0.  0.  0.\n   0.  0.  0.  1.  0.  0.  0.]\n [ 0.  0.  0.  0.  1.  0.  0.  0.  0.  0.  0.  0.  1.  1.  0.  0.  0.  0.\n   0.  0.  0.  1.  0.  0.  0.]\n [ 0.  0.  0.  0.  1.  0.  0.  0.  0.  0.  0.  0.  1.  1.  0.  0.  0.  0.\n   0.  0.  0.  1.  0.  0.  0.]\n [ 0.  0.  0.  0.  1.  0.  0.  0.  0.  0.  0.  0.  1.  1.  0.  0.  0.  0.\n   0.  0.  0.  1.  0.  0.  0.]\n [ 0.  0.  0.  0.  1.  0.  0.  0.  0.  0.  0.  0.  1.  1.  0.  0.  0.  0.\n   0.  0.  0.  1.  0.  0.  0.]\n [ 0.  0.  0.  0.  1.  0.  0.  0.  0.  0.  0.  0.  1.  1.  0.  0.  0.  0.\n   0.  0.  0.  1.  0.  0.  0.]\n [ 0.  0.  0.  0.  1.  0.  0.  0.  0.  0.  0.  0.  1.  1.  0.  0.  0.  0.\n   0.  0.  0.  1.  0.  0.  0.]\n [ 0.  0.  0.  0.  1.  0.  0.  0.  0.  0.  0.  0.  1.  1.  0.  0.  0.  0.\n   0.  0.  0.  1.  1.  0.  0.]\n [ 1.  1.  1.  1.  1.  1.  1.  1.  1.  1.  1.  1.  1.  1.  1.  1.  1.  1.\n   1.  1.  1.  1.  1.  1.  1.]\n [ 1.  1.  1.  1.  1.  1.  1.  1.  1.  1.  1.  1.  1.  1.  1.  1.  1.  1.\n   1.  1.  1.  1.  1.  1.  1.]\n [ 0.  0.  0.  0.  1.  0.  0.  0.  0.  0.  0.  0.  1.  1.  0.  0.  0.  0.\n   0.  0.  0.  1.  0.  0.  0.]\n [ 0.  0.  0.  0.  1.  0.  0.  0.  0.  0.  0.  0.  1.  1.  0.  0.  0.  0.\n   0.  0.  0.  1.  0.  0.  0.]\n [ 0.  0.  0.  0.  1.  0.  0.  0.  0.  0.  0.  0.  1.  1.  0.  0.  0.  0.\n   0.  0.  0.  1.  1.  0.  0.]\n [ 0.  0.  0.  0.  1.  0.  0.  0.  0.  0.  0.  0.  1.  1.  0.  0.  0.  0.\n   0.  0.  0.  1.  1.  0.  0.]\n [ 0.  0.  0.  0.  1.  0.  0.  0.  0.  0.  0.  0.  1.  1.  0.  0.  0.  0.\n   0.  0.  0.  1.  1.  0.  0.]\n [ 0.  0.  0.  0.  1.  0.  0.  0.  0.  0.  0.  0.  1.  1.  1.  0.  0.  0.\n   0.  0.  0.  1.  1.  0.  0.]\n [ 0.  0.  0.  0.  1.  0.  0.  0.  0.  0.  0.  0.  1.  1.  1.  0.  0.  0.\n   0.  0.  0.  1.  1.  0.  0.]\n [ 0.  0.  0.  0.  1.  0.  0.  0.  0.  0.  0.  0.  1.  1.  1.  0.  0.  0.\n   0.  0.  0.  1.  1.  0.  0.]\n [ 0.  0.  0.  0.  1.  0.  0.  0.  0.  0.  0.  0.  1.  1.  1.  0.  0.  0.\n   0.  0.  0.  1.  1.  0.  0.]\n [ 0.  0.  0.  0.  1.  1.  0.  0.  0.  0.  0.  0.  1.  1.  1.  0.  0.  0.\n   0.  0.  0.  1.  1.  0.  0.]\n [ 0.  0.  0.  0.  1.  1.  0.  0.  0.  0.  0.  0.  1.  1.  1.  0.  0.  0.\n   0.  0.  0.  0.  1.  0.  0.]]\n"
     ]
    }
   ],
   "source": [
    "hello = extract_labels([label_images[0]]).reshape((-1, 25, 2))[:,:,0].T\n",
    "plt.imshow(hello)\n",
    "plt.show()\n",
    "print(hello)"
   ]
  },
  {
   "cell_type": "code",
   "execution_count": 5,
   "metadata": {},
   "outputs": [],
   "source": [
    "perm_indices = numpy.random.permutation(range(sat_images.shape[0]))\n",
    "train_limit = int(VALIDATION_TRAIN_PERC * len(perm_indices))\n",
    "val_limit = int(VALIDATION_VAL_PERC * len(perm_indices))\n",
    "\n",
    "train_data = sat_images[perm_indices[0:train_limit]]\n",
    "train_data, means, stds = standardize(train_data)\n",
    "train_labels = label_images[perm_indices[0:train_limit]]\n",
    "train_size = train_labels.shape[0]\n",
    "\n",
    "validation_data = sat_images[perm_indices[train_limit:train_limit + val_limit]]\n",
    "validation_data, _, _ = standardize(validation_data, means=means, stds=stds)\n",
    "validation_labels = label_images[perm_indices[train_limit:train_limit + val_limit]]\n",
    "\n",
    "test_data = sat_images[perm_indices[train_limit + val_limit:]]\n",
    "test_data, _, _ = standardize(test_data, means=means, stds=stds)\n",
    "test_labels = label_images[perm_indices[train_limit + val_limit:]]"
   ]
  },
  {
   "cell_type": "code",
   "execution_count": 11,
   "metadata": {},
   "outputs": [
    {
     "ename": "NameError",
     "evalue": "name 'train_labels' is not defined",
     "traceback": [
      "\u001b[0;31m---------------------------------------------------------------------------\u001b[0m",
      "\u001b[0;31mNameError\u001b[0m                                 Traceback (most recent call last)",
      "\u001b[0;32m<ipython-input-11-54c26efb0b61>\u001b[0m in \u001b[0;36m<module>\u001b[0;34m()\u001b[0m\n\u001b[0;32m----> 1\u001b[0;31m \u001b[0mplt\u001b[0m\u001b[0;34m.\u001b[0m\u001b[0mimshow\u001b[0m\u001b[0;34m(\u001b[0m\u001b[0mtrain_labels\u001b[0m\u001b[0;34m[\u001b[0m\u001b[0;36m0\u001b[0m\u001b[0;34m]\u001b[0m\u001b[0;34m)\u001b[0m\u001b[0;34m\u001b[0m\u001b[0m\n\u001b[0m\u001b[1;32m      2\u001b[0m \u001b[0mplt\u001b[0m\u001b[0;34m.\u001b[0m\u001b[0mshow\u001b[0m\u001b[0;34m(\u001b[0m\u001b[0;34m)\u001b[0m\u001b[0;34m\u001b[0m\u001b[0m\n",
      "\u001b[0;31mNameError\u001b[0m: name 'train_labels' is not defined"
     ],
     "output_type": "error"
    }
   ],
   "source": [
    "plt.imshow(train_labels[0])\n",
    "plt.show()"
   ]
  },
  {
   "cell_type": "code",
   "execution_count": 7,
   "metadata": {},
   "outputs": [],
   "source": [
    "patches_train_data = extract_data(train_data, border=IMG_BORDER)\n",
    "patches_train_labels = extract_labels(train_labels)\n",
    "\n",
    "patches_validation_data = extract_data(validation_data, border=IMG_BORDER)\n",
    "patches_validation_labels = extract_labels(validation_labels)\n",
    "\n",
    "patches_test_data = extract_data(test_data, border=IMG_BORDER)\n",
    "patches_test_labels = extract_labels(test_labels)"
   ]
  },
  {
   "cell_type": "code",
   "execution_count": 8,
   "metadata": {},
   "outputs": [
    {
     "name": "stdout",
     "output_type": "stream",
     "text": [
      "(8750, 24, 24, 3)\n(8750, 2)\n"
     ]
    }
   ],
   "source": [
    "print(patches_train_data.shape)\n",
    "print(patches_train_labels.shape)\n",
    "#plt.imshow(train_labels[0])\n",
    "#plt.show()"
   ]
  },
  {
   "cell_type": "code",
   "execution_count": 15,
   "metadata": {},
   "outputs": [
    {
     "name": "stdout",
     "output_type": "stream",
     "text": [
      "[ 1.  0.]\n"
     ]
    }
   ],
   "source": [
    "idx0 = [i for i, j in enumerate(patches_train_labels) if j[0] == 1]\n",
    "print(patches_train_labels[12])"
   ]
  },
  {
   "cell_type": "code",
   "execution_count": 21,
   "metadata": {},
   "outputs": [],
   "source": [
    "c0 = 0\n",
    "c1 = 0\n",
    "for i in range(len(patches_train_labels)):\n",
    "    if patches_train_labels[i][0] == 1:\n",
    "        c0 = c0 + 1\n",
    "    else:\n",
    "        c1 = c1 + 1\n",
    "\n",
    "# Make populations even.\n",
    "min_c = min(c0, c1)\n",
    "idx0 = [i for i, j in enumerate(patches_train_labels) if j[0] == 1]\n",
    "idx1 = [i for i, j in enumerate(patches_train_labels) if j[1] == 1]\n",
    "new_indices = idx0[0:min_c] + idx1[0:min_c]\n",
    "tmp_data = patches_train_data[new_indices, :, :, :]\n",
    "tmp_labels = patches_train_labels[new_indices, :]"
   ]
  },
  {
   "cell_type": "code",
   "execution_count": 23,
   "metadata": {},
   "outputs": [
    {
     "data": {
      "text/plain": [
       "(4040, 2)"
      ]
     },
     "execution_count": 23,
     "metadata": {},
     "output_type": "execute_result"
    }
   ],
   "source": [
    "tmp_labels.shape"
   ]
  },
  {
   "cell_type": "code",
   "execution_count": 39,
   "metadata": {},
   "outputs": [
    {
     "name": "stdout",
     "output_type": "stream",
     "text": [
      "4344\n(8750, 24, 24, 3)\n1168\n(2500, 24, 24, 3)\n588\n(1250, 24, 24, 3)\n"
     ]
    }
   ],
   "source": [
    "patches_train_data, patches_train_labels = balance_data(patches_train_data, patches_train_labels)\n",
    "patches_validation_data, vpatches_alidation_labels = balance_data(patches_validation_data, patches_validation_labels)\n",
    "patches_test_data, patches_test_labels = balance_data(patches_test_data, patches_test_labels)"
   ]
  },
  {
   "cell_type": "code",
   "execution_count": 40,
   "metadata": {},
   "outputs": [
    {
     "name": "stdout",
     "output_type": "stream",
     "text": [
      "(4344, 24, 24, 3)\n(4344, 2)\n"
     ]
    }
   ],
   "source": [
    "print(patches_train_data.shape)\n",
    "print(patches_train_labels.shape)\n",
    "#plt.imshow(train_labels[0])\n",
    "#plt.show()"
   ]
  },
  {
   "cell_type": "code",
   "execution_count": 47,
   "metadata": {},
   "outputs": [
    {
     "name": "stdout",
     "output_type": "stream",
     "text": [
      "[[ 0.  1.]\n [ 0.  1.]\n [ 0.  1.]\n [ 0.  1.]\n [ 0.  1.]\n [ 0.  1.]\n [ 0.  1.]\n [ 0.  1.]\n [ 0.  1.]\n [ 0.  1.]\n [ 0.  1.]\n [ 0.  1.]\n [ 0.  1.]\n [ 0.  1.]\n [ 0.  1.]\n [ 0.  1.]\n [ 0.  1.]\n [ 0.  1.]\n [ 0.  1.]\n [ 0.  1.]\n [ 0.  1.]\n [ 0.  1.]\n [ 0.  1.]\n [ 0.  1.]\n [ 0.  1.]\n [ 0.  1.]\n [ 0.  1.]\n [ 0.  1.]\n [ 0.  1.]\n [ 0.  1.]\n [ 0.  1.]\n [ 0.  1.]\n [ 0.  1.]\n [ 0.  1.]\n [ 0.  1.]\n [ 0.  1.]\n [ 0.  1.]\n [ 0.  1.]\n [ 0.  1.]\n [ 0.  1.]\n [ 0.  1.]\n [ 0.  1.]\n [ 0.  1.]\n [ 0.  1.]]\n"
     ]
    }
   ],
   "source": [
    ""
   ]
  },
  {
   "cell_type": "code",
   "execution_count": null,
   "metadata": {},
   "outputs": [],
   "source": [
    ""
   ]
  }
 ],
 "metadata": {
  "kernelspec": {
   "display_name": "Python 2",
   "language": "python",
   "name": "python2"
  },
  "language_info": {
   "codemirror_mode": {
    "name": "ipython",
    "version": 2.0
   },
   "file_extension": ".py",
   "mimetype": "text/x-python",
   "name": "python",
   "nbconvert_exporter": "python",
   "pygments_lexer": "ipython2",
   "version": "2.7.6"
  }
 },
 "nbformat": 4,
 "nbformat_minor": 0
}