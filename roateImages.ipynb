{
 "cells": [
  {
   "cell_type": "code",
   "execution_count": 1,
   "metadata": {
    "collapsed": true
   },
   "outputs": [],
   "source": [
    "from image_helpers import *\n",
    "from global_vars import *\n",
    "import matplotlib.pyplot as plt"
   ]
  },
  {
   "cell_type": "code",
   "execution_count": 2,
   "metadata": {},
   "outputs": [],
   "source": [
    "data_dir = 'training/'\n",
    "train_data_filename = data_dir + 'images/'\n",
    "label_data_filename = data_dir + 'groundtruth/'\n",
    "\n",
    "# Extract it into numpy arrays.\n",
    "FILE_REGEX = \"satImage_%.3d\""
   ]
  },
  {
   "cell_type": "code",
   "execution_count": 3,
   "metadata": {},
   "outputs": [
    {
     "name": "stdout",
     "output_type": "stream",
     "text": [
      "Loading training/images/satImage_001.png\nLoading training/images/satImage_002.png\nLoading training/images/satImage_003.png\nLoading training/images/satImage_004.png\nLoading training/images/satImage_005.png\nLoading training/images/satImage_006.png\nLoading training/images/satImage_007.png\nLoading training/images/satImage_008.png\nLoading training/images/satImage_009.png\nLoading training/images/satImage_010.png\n"
     ]
    },
    {
     "name": "stdout",
     "output_type": "stream",
     "text": [
      "Loading training/images/satImage_011.png\nLoading training/images/satImage_012.png\nLoading training/images/satImage_013.png\nLoading training/images/satImage_014.png\nLoading training/images/satImage_015.png\nLoading training/images/satImage_016.png\nLoading training/images/satImage_017.png\nLoading training/images/satImage_018.png\nLoading training/images/satImage_019.png\nLoading training/images/satImage_020.png\n"
     ]
    },
    {
     "name": "stdout",
     "output_type": "stream",
     "text": [
      "Loading training/groundtruth/satImage_001.png\nLoading training/groundtruth/satImage_002.png\nLoading training/groundtruth/satImage_003.png\nLoading training/groundtruth/satImage_004.png\nLoading training/groundtruth/satImage_005.png\nLoading training/groundtruth/satImage_006.png\nLoading training/groundtruth/satImage_007.png\nLoading training/groundtruth/satImage_008.png\nLoading training/groundtruth/satImage_009.png\nLoading training/groundtruth/satImage_010.png\nLoading training/groundtruth/satImage_011.png\nLoading training/groundtruth/satImage_012.png\nLoading training/groundtruth/satImage_013.png\nLoading training/groundtruth/satImage_014.png\nLoading training/groundtruth/satImage_015.png\nLoading training/groundtruth/satImage_016.png\nLoading training/groundtruth/satImage_017.png\nLoading training/groundtruth/satImage_018.png\nLoading training/groundtruth/satImage_019.png\nLoading training/groundtruth/satImage_020.png\nhello\n"
     ]
    }
   ],
   "source": [
    "sat_images, label_images = read_images(train_data_filename, label_data_filename, 20, FILE_REGEX)\n",
    "print(\"hello\")"
   ]
  },
  {
   "cell_type": "code",
   "execution_count": 4,
   "metadata": {},
   "outputs": [
    {
     "name": "stdout",
     "output_type": "stream",
     "text": [
      "(20, 400, 400)\n"
     ]
    }
   ],
   "source": [
    "plt.imshow(label_images[1])\n",
    "print(label_images.shape)\n",
    "plt.show()"
   ]
  },
  {
   "cell_type": "code",
   "execution_count": 5,
   "metadata": {},
   "outputs": [],
   "source": [
    "hello = extract_labels([label_images[0]], IMG_PATCH_SIZE)\n",
    "\n",
    "hello = label_to_img(50,50, 2,2, hello)\n",
    "hello = img_float_to_uint8(hello)\n",
    "Image.fromarray(hello).save(\"tnp_prediction_2\" + \".png\")"
   ]
  },
  {
   "cell_type": "code",
   "execution_count": 6,
   "metadata": {},
   "outputs": [],
   "source": [
    "from mask_to_submission import mask_to_submission_strings"
   ]
  },
  {
   "cell_type": "code",
   "execution_count": 16,
   "metadata": {},
   "outputs": [
    {
     "name": "stdout",
     "output_type": "stream",
     "text": [
      "625\n625\n001_0_0,0  :  002_0_0,0\n001_0_16,0  :  002_0_2,0\n001_0_32,0  :  002_0_4,0\n001_0_48,0  :  002_0_6,0\n001_0_64,0  :  002_0_8,0\n001_0_80,0  :  002_0_10,0\n001_0_96,0  :  002_0_12,0\n001_0_112,0  :  002_0_14,0\n001_0_128,0  :  002_0_16,0\n001_0_144,0  :  002_0_18,0\n001_0_160,0  :  002_0_20,0\n001_0_176,0  :  002_0_22,0\n001_0_192,1  :  002_0_24,1\n001_0_208,1  :  002_0_26,1\n001_0_224,0  :  002_0_28,0\n001_0_240,0  :  002_0_30,0\n001_0_256,0  :  002_0_32,0\n001_0_272,0  :  002_0_34,0\n001_0_288,0  :  002_0_36,0\n001_0_304,0  :  002_0_38,0\n001_0_320,0  :  002_0_40,0\n001_0_336,0  :  002_0_42,0\n001_0_352,0  :  002_0_44,0\n001_0_368,0  :  002_0_46,0\n001_0_384,0  :  002_0_48,0\n001_16_0,0  :  002_2_0,0\n001_16_16,0  :  002_2_2,0\n001_16_32,0  :  002_2_4,0\n001_16_48,0  :  002_2_6,0\n001_16_64,0  :  002_2_8,0\n001_16_80,0  :  002_2_10,0\n001_16_96,0  :  002_2_12,0\n001_16_112,0  :  002_2_14,0\n001_16_128,0  :  002_2_16,0\n001_16_144,0  :  002_2_18,0\n001_16_160,0  :  002_2_20,0\n001_16_176,0  :  002_2_22,0\n001_16_192,1  :  002_2_24,1\n001_16_208,1  :  002_2_26,1\n001_16_224,0  :  002_2_28,0\n001_16_240,0  :  002_2_30,0\n001_16_256,0  :  002_2_32,0\n001_16_272,0  :  002_2_34,0\n001_16_288,0  :  002_2_36,0\n001_16_304,0  :  002_2_38,0\n001_16_320,0  :  002_2_40,0\n001_16_336,0  :  002_2_42,0\n001_16_352,0  :  002_2_44,0\n001_16_368,0  :  002_2_46,0\n001_16_384,0  :  002_2_48,0\n001_32_0,0  :  002_4_0,0\n001_32_16,0  :  002_4_2,0\n001_32_32,0  :  002_4_4,0\n001_32_48,0  :  002_4_6,0\n001_32_64,0  :  002_4_8,0\n001_32_80,0  :  002_4_10,0\n001_32_96,0  :  002_4_12,0\n001_32_112,0  :  002_4_14,0\n001_32_128,0  :  002_4_16,0\n001_32_144,0  :  002_4_18,0\n001_32_160,0  :  002_4_20,0\n001_32_176,0  :  002_4_22,0\n001_32_192,1  :  002_4_24,1\n001_32_208,1  :  002_4_26,1\n001_32_224,0  :  002_4_28,0\n001_32_240,0  :  002_4_30,0\n001_32_256,0  :  002_4_32,0\n001_32_272,0  :  002_4_34,0\n001_32_288,0  :  002_4_36,0\n001_32_304,0  :  002_4_38,0\n001_32_320,0  :  002_4_40,0\n001_32_336,0  :  002_4_42,0\n001_32_352,0  :  002_4_44,0\n001_32_368,0  :  002_4_46,0\n001_32_384,0  :  002_4_48,0\n001_48_0,0  :  002_6_0,0\n001_48_16,0  :  002_6_2,0\n001_48_32,0  :  002_6_4,0\n001_48_48,0  :  002_6_6,0\n001_48_64,0  :  002_6_8,0\n001_48_80,0  :  002_6_10,0\n001_48_96,0  :  002_6_12,0\n001_48_112,0  :  002_6_14,0\n001_48_128,0  :  002_6_16,0\n001_48_144,0  :  002_6_18,0\n001_48_160,0  :  002_6_20,0\n001_48_176,0  :  002_6_22,0\n001_48_192,1  :  002_6_24,1\n001_48_208,1  :  002_6_26,1\n001_48_224,0  :  002_6_28,0\n001_48_240,0  :  002_6_30,0\n001_48_256,0  :  002_6_32,0\n001_48_272,0  :  002_6_34,0\n001_48_288,0  :  002_6_36,0\n001_48_304,0  :  002_6_38,0\n001_48_320,0  :  002_6_40,0\n001_48_336,0  :  002_6_42,0\n001_48_352,0  :  002_6_44,0\n001_48_368,0  :  002_6_46,0\n001_48_384,0  :  002_6_48,0\n001_64_0,1  :  002_8_0,1\n001_64_16,1  :  002_8_2,1\n001_64_32,1  :  002_8_4,1\n001_64_48,1  :  002_8_6,1\n001_64_64,1  :  002_8_8,1\n001_64_80,1  :  002_8_10,1\n001_64_96,1  :  002_8_12,1\n001_64_112,1  :  002_8_14,1\n001_64_128,1  :  002_8_16,1\n001_64_144,1  :  002_8_18,1\n001_64_160,1  :  002_8_20,1\n001_64_176,1  :  002_8_22,1\n001_64_192,1  :  002_8_24,1\n001_64_208,1  :  002_8_26,1\n001_64_224,1  :  002_8_28,1\n001_64_240,1  :  002_8_30,1\n001_64_256,1  :  002_8_32,1\n001_64_272,1  :  002_8_34,1\n001_64_288,1  :  002_8_36,1\n001_64_304,1  :  002_8_38,1\n001_64_320,1  :  002_8_40,1\n001_64_336,1  :  002_8_42,1\n001_64_352,1  :  002_8_44,1\n001_64_368,1  :  002_8_46,1\n001_64_384,1  :  002_8_48,1\n001_80_0,0  :  002_10_0,0\n001_80_16,0  :  002_10_2,0\n001_80_32,0  :  002_10_4,0\n001_80_48,0  :  002_10_6,0\n001_80_64,0  :  002_10_8,0\n001_80_80,0  :  002_10_10,0\n001_80_96,0  :  002_10_12,0\n001_80_112,0  :  002_10_14,0\n001_80_128,0  :  002_10_16,0\n001_80_144,0  :  002_10_18,0\n001_80_160,0  :  002_10_20,0\n001_80_176,0  :  002_10_22,0\n001_80_192,1  :  002_10_24,1\n001_80_208,1  :  002_10_26,1\n001_80_224,0  :  002_10_28,0\n001_80_240,0  :  002_10_30,0\n001_80_256,0  :  002_10_32,0\n001_80_272,0  :  002_10_34,0\n001_80_288,0  :  002_10_36,0\n001_80_304,0  :  002_10_38,0\n001_80_320,0  :  002_10_40,0\n001_80_336,0  :  002_10_42,0\n001_80_352,0  :  002_10_44,0\n001_80_368,1  :  002_10_46,1\n001_80_384,1  :  002_10_48,1\n001_96_0,0  :  002_12_0,0\n001_96_16,0  :  002_12_2,0\n001_96_32,0  :  002_12_4,0\n001_96_48,0  :  002_12_6,0\n001_96_64,0  :  002_12_8,0\n001_96_80,0  :  002_12_10,0\n001_96_96,0  :  002_12_12,0\n001_96_112,0  :  002_12_14,0\n001_96_128,0  :  002_12_16,0\n001_96_144,0  :  002_12_18,0\n001_96_160,0  :  002_12_20,0\n001_96_176,0  :  002_12_22,0\n001_96_192,1  :  002_12_24,1\n001_96_208,1  :  002_12_26,1\n001_96_224,0  :  002_12_28,0\n001_96_240,0  :  002_12_30,0\n001_96_256,0  :  002_12_32,0\n001_96_272,0  :  002_12_34,0\n001_96_288,0  :  002_12_36,0\n001_96_304,0  :  002_12_38,0\n001_96_320,0  :  002_12_40,0\n001_96_336,0  :  002_12_42,0\n001_96_352,0  :  002_12_44,0\n001_96_368,0  :  002_12_46,0\n001_96_384,0  :  002_12_48,0\n001_112_0,0  :  002_14_0,0\n001_112_16,0  :  002_14_2,0\n001_112_32,0  :  002_14_4,0\n001_112_48,0  :  002_14_6,0\n001_112_64,0  :  002_14_8,0\n001_112_80,0  :  002_14_10,0\n001_112_96,0  :  002_14_12,0\n001_112_112,0  :  002_14_14,0\n001_112_128,0  :  002_14_16,0\n001_112_144,0  :  002_14_18,0\n001_112_160,0  :  002_14_20,0\n001_112_176,0  :  002_14_22,0\n001_112_192,1  :  002_14_24,1\n001_112_208,1  :  002_14_26,1\n001_112_224,0  :  002_14_28,0\n001_112_240,0  :  002_14_30,0\n001_112_256,0  :  002_14_32,0\n001_112_272,0  :  002_14_34,0\n001_112_288,0  :  002_14_36,0\n001_112_304,0  :  002_14_38,0\n001_112_320,0  :  002_14_40,0\n001_112_336,0  :  002_14_42,0\n001_112_352,0  :  002_14_44,0\n001_112_368,0  :  002_14_46,0\n001_112_384,0  :  002_14_48,0\n001_128_0,0  :  002_16_0,0\n001_128_16,0  :  002_16_2,0\n001_128_32,0  :  002_16_4,0\n001_128_48,0  :  002_16_6,0\n001_128_64,0  :  002_16_8,0\n001_128_80,0  :  002_16_10,0\n001_128_96,0  :  002_16_12,0\n001_128_112,0  :  002_16_14,0\n001_128_128,0  :  002_16_16,0\n001_128_144,0  :  002_16_18,0\n001_128_160,0  :  002_16_20,0\n001_128_176,0  :  002_16_22,0\n001_128_192,1  :  002_16_24,1\n001_128_208,1  :  002_16_26,1\n001_128_224,0  :  002_16_28,0\n001_128_240,0  :  002_16_30,0\n001_128_256,0  :  002_16_32,0\n001_128_272,0  :  002_16_34,0\n001_128_288,0  :  002_16_36,0\n001_128_304,0  :  002_16_38,0\n001_128_320,0  :  002_16_40,0\n001_128_336,0  :  002_16_42,0\n001_128_352,0  :  002_16_44,0\n001_128_368,0  :  002_16_46,0\n001_128_384,0  :  002_16_48,0\n001_144_0,0  :  002_18_0,0\n001_144_16,0  :  002_18_2,0\n001_144_32,0  :  002_18_4,0\n001_144_48,0  :  002_18_6,0\n001_144_64,0  :  002_18_8,0\n001_144_80,0  :  002_18_10,0\n001_144_96,0  :  002_18_12,0\n001_144_112,0  :  002_18_14,0\n001_144_128,0  :  002_18_16,0\n001_144_144,0  :  002_18_18,0\n001_144_160,0  :  002_18_20,0\n001_144_176,0  :  002_18_22,0\n001_144_192,1  :  002_18_24,1\n001_144_208,1  :  002_18_26,1\n001_144_224,0  :  002_18_28,0\n001_144_240,0  :  002_18_30,0\n001_144_256,0  :  002_18_32,0\n001_144_272,0  :  002_18_34,0\n001_144_288,0  :  002_18_36,0\n001_144_304,0  :  002_18_38,0\n001_144_320,0  :  002_18_40,0\n001_144_336,0  :  002_18_42,0\n001_144_352,0  :  002_18_44,0\n001_144_368,0  :  002_18_46,0\n001_144_384,0  :  002_18_48,0\n001_160_0,0  :  002_20_0,0\n001_160_16,0  :  002_20_2,0\n001_160_32,0  :  002_20_4,0\n001_160_48,0  :  002_20_6,0\n001_160_64,0  :  002_20_8,0\n001_160_80,0  :  002_20_10,0\n001_160_96,0  :  002_20_12,0\n001_160_112,0  :  002_20_14,0\n001_160_128,0  :  002_20_16,0\n001_160_144,0  :  002_20_18,0\n001_160_160,0  :  002_20_20,0\n001_160_176,0  :  002_20_22,0\n001_160_192,1  :  002_20_24,1\n001_160_208,1  :  002_20_26,1\n001_160_224,0  :  002_20_28,0\n001_160_240,0  :  002_20_30,0\n001_160_256,0  :  002_20_32,0\n001_160_272,0  :  002_20_34,0\n001_160_288,0  :  002_20_36,0\n001_160_304,0  :  002_20_38,0\n001_160_320,0  :  002_20_40,0\n001_160_336,0  :  002_20_42,0\n001_160_352,0  :  002_20_44,0\n001_160_368,0  :  002_20_46,0\n001_160_384,0  :  002_20_48,0\n001_176_0,0  :  002_22_0,0\n001_176_16,0  :  002_22_2,0\n001_176_32,0  :  002_22_4,0\n001_176_48,0  :  002_22_6,0\n001_176_64,0  :  002_22_8,0\n001_176_80,0  :  002_22_10,0\n001_176_96,0  :  002_22_12,0\n001_176_112,0  :  002_22_14,0\n001_176_128,0  :  002_22_16,0\n001_176_144,0  :  002_22_18,0\n001_176_160,0  :  002_22_20,0\n001_176_176,0  :  002_22_22,0\n001_176_192,1  :  002_22_24,1\n001_176_208,1  :  002_22_26,1\n001_176_224,0  :  002_22_28,0\n001_176_240,0  :  002_22_30,0\n001_176_256,0  :  002_22_32,0\n001_176_272,0  :  002_22_34,0\n001_176_288,0  :  002_22_36,0\n001_176_304,0  :  002_22_38,0\n001_176_320,0  :  002_22_40,0\n001_176_336,0  :  002_22_42,0\n001_176_352,0  :  002_22_44,0\n001_176_368,0  :  002_22_46,0\n001_176_384,0  :  002_22_48,0\n001_192_0,1  :  002_24_0,1\n001_192_16,1  :  002_24_2,1\n001_192_32,1  :  002_24_4,1\n001_192_48,1  :  002_24_6,1\n001_192_64,1  :  002_24_8,1\n001_192_80,1  :  002_24_10,1\n001_192_96,1  :  002_24_12,1\n001_192_112,1  :  002_24_14,1\n001_192_128,1  :  002_24_16,1\n001_192_144,1  :  002_24_18,1\n001_192_160,1  :  002_24_20,1\n001_192_176,1  :  002_24_22,1\n001_192_192,1  :  002_24_24,1\n001_192_208,1  :  002_24_26,1\n001_192_224,1  :  002_24_28,1\n001_192_240,1  :  002_24_30,1\n001_192_256,1  :  002_24_32,1\n001_192_272,1  :  002_24_34,1\n001_192_288,1  :  002_24_36,1\n001_192_304,1  :  002_24_38,1\n001_192_320,1  :  002_24_40,1\n001_192_336,1  :  002_24_42,1\n001_192_352,1  :  002_24_44,1\n001_192_368,1  :  002_24_46,1\n001_192_384,1  :  002_24_48,1\n001_208_0,1  :  002_26_0,1\n001_208_16,1  :  002_26_2,1\n001_208_32,1  :  002_26_4,1\n001_208_48,1  :  002_26_6,1\n001_208_64,1  :  002_26_8,1\n001_208_80,1  :  002_26_10,1\n001_208_96,1  :  002_26_12,1\n001_208_112,1  :  002_26_14,1\n001_208_128,1  :  002_26_16,1\n001_208_144,1  :  002_26_18,1\n001_208_160,1  :  002_26_20,1\n001_208_176,1  :  002_26_22,1\n001_208_192,1  :  002_26_24,1\n001_208_208,1  :  002_26_26,1\n001_208_224,1  :  002_26_28,1\n001_208_240,1  :  002_26_30,1\n001_208_256,1  :  002_26_32,1\n001_208_272,1  :  002_26_34,1\n001_208_288,1  :  002_26_36,1\n001_208_304,1  :  002_26_38,1\n001_208_320,1  :  002_26_40,1\n001_208_336,1  :  002_26_42,1\n001_208_352,1  :  002_26_44,1\n001_208_368,1  :  002_26_46,1\n001_208_384,1  :  002_26_48,1\n001_224_0,0  :  002_28_0,0\n001_224_16,0  :  002_28_2,0\n001_224_32,0  :  002_28_4,0\n001_224_48,0  :  002_28_6,0\n001_224_64,0  :  002_28_8,0\n001_224_80,0  :  002_28_10,0\n001_224_96,0  :  002_28_12,0\n001_224_112,0  :  002_28_14,0\n001_224_128,0  :  002_28_16,0\n001_224_144,0  :  002_28_18,0\n001_224_160,0  :  002_28_20,0\n001_224_176,0  :  002_28_22,0\n001_224_192,1  :  002_28_24,1\n001_224_208,1  :  002_28_26,1\n001_224_224,0  :  002_28_28,0\n001_224_240,0  :  002_28_30,0\n001_224_256,0  :  002_28_32,0\n001_224_272,0  :  002_28_34,0\n001_224_288,0  :  002_28_36,0\n001_224_304,1  :  002_28_38,1\n001_224_320,1  :  002_28_40,1\n001_224_336,1  :  002_28_42,1\n001_224_352,1  :  002_28_44,1\n001_224_368,1  :  002_28_46,1\n001_224_384,1  :  002_28_48,1\n001_240_0,0  :  002_30_0,0\n001_240_16,0  :  002_30_2,0\n001_240_32,0  :  002_30_4,0\n001_240_48,0  :  002_30_6,0\n001_240_64,0  :  002_30_8,0\n001_240_80,0  :  002_30_10,0\n001_240_96,0  :  002_30_12,0\n001_240_112,0  :  002_30_14,0\n001_240_128,0  :  002_30_16,0\n001_240_144,0  :  002_30_18,0\n001_240_160,0  :  002_30_20,0\n001_240_176,0  :  002_30_22,0\n001_240_192,1  :  002_30_24,1\n001_240_208,1  :  002_30_26,1\n001_240_224,0  :  002_30_28,0\n001_240_240,0  :  002_30_30,0\n001_240_256,0  :  002_30_32,0\n001_240_272,0  :  002_30_34,0\n001_240_288,0  :  002_30_36,0\n001_240_304,0  :  002_30_38,0\n001_240_320,0  :  002_30_40,0\n001_240_336,0  :  002_30_42,0\n001_240_352,0  :  002_30_44,0\n001_240_368,0  :  002_30_46,0\n001_240_384,0  :  002_30_48,0\n"
     ]
    }
   ],
   "source": [
    "one = list(mask_to_submission_strings(\"tnp_prediction_1.png\", tmp=16))\n",
    "two = list(mask_to_submission_strings(\"tnp_prediction_2.png\", tmp=2))\n",
    "\n",
    "print(len(one))\n",
    "print(len(two))\n",
    "for i in range(400):\n",
    "    print(str(one[i]) + '  :  ' + str(two[i]))"
   ]
  },
  {
   "cell_type": "code",
   "execution_count": 28,
   "metadata": {},
   "outputs": [
    {
     "data": {
      "image/png": "[encoded data removed]",
      "text/plain": [
       "<matplotlib.figure.Figure at 0x7fd4cb59e400>"
      ]
     },
     "metadata": {},
     "output_type": "display_data"
    }
   ],
   "source": [
    "plt.imshow(ndimage.zoom(hello, 2, order=0))\n",
    "plt.show()"
   ]
  },
  {
   "cell_type": "code",
   "execution_count": 11,
   "metadata": {},
   "outputs": [
    {
     "ename": "NameError",
     "evalue": "name 'train_labels' is not defined",
     "traceback": [
      "\u001b[0;31m---------------------------------------------------------------------------\u001b[0m",
      "\u001b[0;31mNameError\u001b[0m                                 Traceback (most recent call last)",
      "\u001b[0;32m<ipython-input-11-54c26efb0b61>\u001b[0m in \u001b[0;36m<module>\u001b[0;34m()\u001b[0m\n\u001b[0;32m----> 1\u001b[0;31m \u001b[0mplt\u001b[0m\u001b[0;34m.\u001b[0m\u001b[0mimshow\u001b[0m\u001b[0;34m(\u001b[0m\u001b[0mtrain_labels\u001b[0m\u001b[0;34m[\u001b[0m\u001b[0;36m0\u001b[0m\u001b[0;34m]\u001b[0m\u001b[0;34m)\u001b[0m\u001b[0;34m\u001b[0m\u001b[0m\n\u001b[0m\u001b[1;32m      2\u001b[0m \u001b[0mplt\u001b[0m\u001b[0;34m.\u001b[0m\u001b[0mshow\u001b[0m\u001b[0;34m(\u001b[0m\u001b[0;34m)\u001b[0m\u001b[0;34m\u001b[0m\u001b[0m\n",
      "\u001b[0;31mNameError\u001b[0m: name 'train_labels' is not defined"
     ],
     "output_type": "error"
    }
   ],
   "source": [
    ""
   ]
  },
  {
   "cell_type": "code",
   "execution_count": 7,
   "metadata": {},
   "outputs": [],
   "source": [
    "patches_train_data = extract_data(train_data, border=IMG_BORDER)\n",
    "patches_train_labels = extract_labels(train_labels)\n",
    "\n",
    "patches_validation_data = extract_data(validation_data, border=IMG_BORDER)\n",
    "patches_validation_labels = extract_labels(validation_labels)\n",
    "\n",
    "patches_test_data = extract_data(test_data, border=IMG_BORDER)\n",
    "patches_test_labels = extract_labels(test_labels)"
   ]
  },
  {
   "cell_type": "code",
   "execution_count": 8,
   "metadata": {},
   "outputs": [
    {
     "name": "stdout",
     "output_type": "stream",
     "text": [
      "(8750, 24, 24, 3)\n(8750, 2)\n"
     ]
    }
   ],
   "source": [
    "print(patches_train_data.shape)\n",
    "print(patches_train_labels.shape)\n",
    "#plt.imshow(train_labels[0])\n",
    "#plt.show()"
   ]
  },
  {
   "cell_type": "code",
   "execution_count": 15,
   "metadata": {},
   "outputs": [
    {
     "name": "stdout",
     "output_type": "stream",
     "text": [
      "[ 1.  0.]\n"
     ]
    }
   ],
   "source": [
    "idx0 = [i for i, j in enumerate(patches_train_labels) if j[0] == 1]\n",
    "print(patches_train_labels[12])"
   ]
  },
  {
   "cell_type": "code",
   "execution_count": 21,
   "metadata": {},
   "outputs": [],
   "source": [
    "c0 = 0\n",
    "c1 = 0\n",
    "for i in range(len(patches_train_labels)):\n",
    "    if patches_train_labels[i][0] == 1:\n",
    "        c0 = c0 + 1\n",
    "    else:\n",
    "        c1 = c1 + 1\n",
    "\n",
    "# Make populations even.\n",
    "min_c = min(c0, c1)\n",
    "idx0 = [i for i, j in enumerate(patches_train_labels) if j[0] == 1]\n",
    "idx1 = [i for i, j in enumerate(patches_train_labels) if j[1] == 1]\n",
    "new_indices = idx0[0:min_c] + idx1[0:min_c]\n",
    "tmp_data = patches_train_data[new_indices, :, :, :]\n",
    "tmp_labels = patches_train_labels[new_indices, :]"
   ]
  },
  {
   "cell_type": "code",
   "execution_count": 23,
   "metadata": {},
   "outputs": [
    {
     "data": {
      "text/plain": [
       "(4040, 2)"
      ]
     },
     "execution_count": 23,
     "metadata": {},
     "output_type": "execute_result"
    }
   ],
   "source": [
    "tmp_labels.shape"
   ]
  },
  {
   "cell_type": "code",
   "execution_count": 39,
   "metadata": {},
   "outputs": [
    {
     "name": "stdout",
     "output_type": "stream",
     "text": [
      "4344\n(8750, 24, 24, 3)\n1168\n(2500, 24, 24, 3)\n588\n(1250, 24, 24, 3)\n"
     ]
    }
   ],
   "source": [
    "patches_train_data, patches_train_labels = balance_data(patches_train_data, patches_train_labels)\n",
    "patches_validation_data, vpatches_alidation_labels = balance_data(patches_validation_data, patches_validation_labels)\n",
    "patches_test_data, patches_test_labels = balance_data(patches_test_data, patches_test_labels)"
   ]
  }
 ],
 "metadata": {
  "kernelspec": {
   "display_name": "Python 2",
   "language": "python",
   "name": "python2"
  },
  "language_info": {
   "codemirror_mode": {
    "name": "ipython",
    "version": 2.0
   },
   "file_extension": ".py",
   "mimetype": "text/x-python",
   "name": "python",
   "nbconvert_exporter": "python",
   "pygments_lexer": "ipython2",
   "version": "2.7.6"
  }
 },
 "nbformat": 4,
 "nbformat_minor": 0
}